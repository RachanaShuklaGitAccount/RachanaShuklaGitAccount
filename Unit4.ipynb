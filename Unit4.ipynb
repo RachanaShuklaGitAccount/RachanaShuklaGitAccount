{
  "nbformat": 4,
  "nbformat_minor": 0,
  "metadata": {
    "colab": {
      "name": "Unit4.ipynb",
      "provenance": [],
      "collapsed_sections": [],
      "authorship_tag": "ABX9TyPOSmuAa7QsTIleV1mh7kU2",
      "include_colab_link": true
    },
    "kernelspec": {
      "name": "python3",
      "display_name": "Python 3"
    },
    "language_info": {
      "name": "python"
    }
  },
  "cells": [
    {
      "cell_type": "markdown",
      "metadata": {
        "id": "view-in-github",
        "colab_type": "text"
      },
      "source": [
        "<a href=\"https://colab.research.google.com/github/RachanaShuklaGitAccount/RachanaShuklaGitAccount/blob/main/Unit4.ipynb\" target=\"_parent\"><img src=\"https://colab.research.google.com/assets/colab-badge.svg\" alt=\"Open In Colab\"/></a>"
      ]
    },
    {
      "cell_type": "code",
      "execution_count": null,
      "metadata": {
        "colab": {
          "base_uri": "https://localhost:8080/"
        },
        "id": "znZzdhbYysmd",
        "outputId": "f2cd53dc-d88e-4614-e8cf-5c5bef1a8201"
      },
      "outputs": [
        {
          "output_type": "stream",
          "name": "stdout",
          "text": [
            "20 is grater than 15\n",
            "I am Not in if\n"
          ]
        }
      ],
      "source": [
        "i = 20\n",
        "if (i > 15):\n",
        "\tprint (\"20 is grater than 15\")\n",
        "print (\"I am Not in if\")\n"
      ]
    },
    {
      "cell_type": "code",
      "source": [
        "A=30;\n",
        "B=20;\n",
        "if (A>B):\n",
        "\tprint (\"A is Greater than B\")\n",
        "\tprint (\"i'm in if Block\")\n",
        "else:\n",
        "\tprint (\"B is Greater than A\")\n",
        "\tprint (\"i'm in else Block\")\n",
        "print (\"i'm not in if and not in else Block\")\n"
      ],
      "metadata": {
        "colab": {
          "base_uri": "https://localhost:8080/"
        },
        "id": "ii2mesIbzkvZ",
        "outputId": "016f084e-686e-45f9-ef72-57bbedd37b30"
      },
      "execution_count": null,
      "outputs": [
        {
          "output_type": "stream",
          "name": "stdout",
          "text": [
            "B is Greater than A\n",
            "i'm in else Block\n",
            "i'm not in if and not in else Block\n"
          ]
        }
      ]
    },
    {
      "cell_type": "code",
      "source": [
        "i=22\n",
        "if (i == 10):\n",
        "\tprint (\"i is 10\")\n",
        "elif (i == 15):\n",
        "\tprint (\"i is 15\")\n",
        "elif (i == 22):\n",
        "\tprint (\"i is 22\")\n",
        "else:\n",
        "\tprint (\"i is not present\")\n"
      ],
      "metadata": {
        "colab": {
          "base_uri": "https://localhost:8080/"
        },
        "id": "MV1bHGTx0JUI",
        "outputId": "471bc165-4132-47da-b42c-bda1419d8d17"
      },
      "execution_count": null,
      "outputs": [
        {
          "output_type": "stream",
          "name": "stdout",
          "text": [
            "i is not present\n"
          ]
        }
      ]
    },
    {
      "cell_type": "code",
      "source": [
        "i = 14\n",
        "if (i == 10):\n",
        "\t# First if statement\n",
        "\tif (i < 15):\n",
        "\t\tprint (\"i is smaller than 15\")\n",
        "\t# Nested - if statement\n",
        "\t# Will only be executed if statement above\n",
        "\t# it is true\n",
        "\tif (i < 12): print (\"i is smaller than 12 too\")\n",
        "\telse: print (\"i is greater than 12\")\t"
      ],
      "metadata": {
        "id": "tDKi6Cas0sqz"
      },
      "execution_count": null,
      "outputs": []
    },
    {
      "cell_type": "code",
      "source": [
        "i = 10\n",
        "if (i == 10):\n",
        "\t# First if statement\n",
        "\tif (i < 15):\n",
        "\t\tprint (\"i is smaller than 15\")\n",
        "\t# Nested - if statement\n",
        "\t# Will only be executed if statement above\n",
        "\t# it is true\n",
        "\tprint (\"i is smaller than 12 too\") if (i < 12) else\tprint (\"i is greater than 12\")\t"
      ],
      "metadata": {
        "colab": {
          "base_uri": "https://localhost:8080/"
        },
        "id": "ljFcyPtl1cxV",
        "outputId": "831a00e5-63aa-4623-b1c8-c86c005d9b6d"
      },
      "execution_count": null,
      "outputs": [
        {
          "output_type": "stream",
          "name": "stdout",
          "text": [
            "i is smaller than 15\n",
            "i is smaller than 12 too\n"
          ]
        }
      ]
    },
    {
      "cell_type": "code",
      "source": [
        "# Python program to illustrate\n",
        "# while loop\n",
        "count = 0\n",
        "while (count < 3):\t\n",
        "\tcount = count + 1\n",
        "\tprint(\"Hello\")\n"
      ],
      "metadata": {
        "colab": {
          "base_uri": "https://localhost:8080/"
        },
        "id": "Wd5T2lqL53xv",
        "outputId": "c92e768d-68f4-4ecb-9825-826891078c11"
      },
      "execution_count": null,
      "outputs": [
        {
          "output_type": "stream",
          "name": "stdout",
          "text": [
            "Hello\n",
            "Hello\n",
            "Hello\n"
          ]
        }
      ]
    },
    {
      "cell_type": "code",
      "source": [
        "# Prints all letters except 'e' and 's'\n",
        "i = 0\n",
        "a = 'Hello Students'\n",
        "\n",
        "while i < len(a):\n",
        "\tif a[i] == 'e' or a[i] == 's':\n",
        "\t\ti += 1\n",
        "\t\tcontinue\n",
        "\tprint('Current Letter :', a[i])\n",
        "\ti += 1\n"
      ],
      "metadata": {
        "colab": {
          "base_uri": "https://localhost:8080/"
        },
        "id": "n9v-Or3V6sW6",
        "outputId": "070457f3-0140-41d3-9987-f7458255eba7"
      },
      "execution_count": null,
      "outputs": [
        {
          "output_type": "stream",
          "name": "stdout",
          "text": [
            "Current Letter : H\n",
            "Current Letter : l\n",
            "Current Letter : l\n",
            "Current Letter : o\n",
            "Current Letter :  \n",
            "Current Letter : S\n",
            "Current Letter : t\n",
            "Current Letter : u\n",
            "Current Letter : d\n",
            "Current Letter : n\n",
            "Current Letter : t\n"
          ]
        }
      ]
    },
    {
      "cell_type": "code",
      "source": [
        "i = 0\n",
        "a = 'Hello Students'\n",
        "\n",
        "while i < len(a):\n",
        "\tif a[i] == 'e' or a[i] == 's':\n",
        "\t\ti += 1\n",
        "\t\tbreak\n",
        "\tprint('Current Letter :', a[i])\n",
        "\ti += 1\n"
      ],
      "metadata": {
        "colab": {
          "base_uri": "https://localhost:8080/"
        },
        "id": "M5F4Ja5d7jiA",
        "outputId": "f036e409-b25c-4f4c-f6f7-744772f607d1"
      },
      "execution_count": null,
      "outputs": [
        {
          "output_type": "stream",
          "name": "stdout",
          "text": [
            "Current Letter : H\n"
          ]
        }
      ]
    },
    {
      "cell_type": "code",
      "source": [
        "# An empty loop\n",
        "a = 'Hello Students'\n",
        "i = 0\n",
        "\n",
        "while i < len(a):\n",
        "\ti += 1\n",
        "\tpass\n",
        "print('Value of i :', i)\n"
      ],
      "metadata": {
        "colab": {
          "base_uri": "https://localhost:8080/"
        },
        "id": "fdSu6N_Q8JZ8",
        "outputId": "5d91a73f-f9ed-436d-9af5-b8c9dafd15a4"
      },
      "execution_count": null,
      "outputs": [
        {
          "output_type": "stream",
          "name": "stdout",
          "text": [
            "Value of i : 14\n"
          ]
        }
      ]
    },
    {
      "cell_type": "code",
      "source": [
        "# Program to find the sum of all numbers stored in a list\n",
        "# List of numbers\n",
        "numbers = [6, 5, 3, 8, 4, 2, 5, 4, 11]\n",
        "# variable to store the sum\n",
        "sum = 0\n",
        "# iterate over the list\n",
        "for val in numbers:\n",
        "    sum = sum+val\n",
        "print(\"The sum is\", sum)\n"
      ],
      "metadata": {
        "id": "0SvX-zSa8tGY"
      },
      "execution_count": null,
      "outputs": []
    },
    {
      "cell_type": "code",
      "source": [
        "# Python program to illustrate\n",
        "# Iterating over a list\n",
        "print(\"List Iteration\")\n",
        "l = [\"C\", \"Java\", \"Python\"]\n",
        "for i in l:\n",
        "\tprint(i)\n",
        "\t\n",
        "# Iterating over a tuple (immutable)\n",
        "print(\"\\nTuple Iteration\")\n",
        "t = (\"C\", \"Java\", \"Python\")\n",
        "for i in t:\n",
        "\tprint(i)\n",
        "\t\n",
        "# Iterating over a String\n",
        "print(\"\\nString Iteration\")\n",
        "s = \"Python\"\n",
        "for i in s :\n",
        "\tprint(i)\n",
        "\t\n",
        "# Iterating over dictionary\n",
        "print(\"\\nDictionary Iteration\")\n",
        "d = dict()\n",
        "d['xyz'] = 123\n",
        "d['abc'] = 345\n",
        "for i in d :\n",
        "\tprint(\"%s %d\" %(i, d[i]))\n"
      ],
      "metadata": {
        "colab": {
          "base_uri": "https://localhost:8080/"
        },
        "id": "UedWAST-9HKj",
        "outputId": "c75cf91c-daec-43c0-ce26-b98b168836bd"
      },
      "execution_count": null,
      "outputs": [
        {
          "output_type": "stream",
          "name": "stdout",
          "text": [
            "List Iteration\n",
            "C\n",
            "Java\n",
            "Python\n",
            "\n",
            "Tuple Iteration\n",
            "C\n",
            "Java\n",
            "Python\n",
            "\n",
            "String Iteration\n",
            "P\n",
            "y\n",
            "t\n",
            "h\n",
            "o\n",
            "n\n",
            "\n",
            "Dictionary Iteration\n",
            "xyz 123\n",
            "abc 345\n"
          ]
        }
      ]
    },
    {
      "cell_type": "code",
      "source": [
        "print(range(10))\n",
        "print(list(range(10)))\n",
        "print(list(range(2, 8)))\n",
        "print(list(range(2, 20, 3)))\n"
      ],
      "metadata": {
        "colab": {
          "base_uri": "https://localhost:8080/"
        },
        "id": "0IOVV35s-fQZ",
        "outputId": "c5e3a5c0-cf7c-4668-cee9-187fc0ce3eee"
      },
      "execution_count": null,
      "outputs": [
        {
          "output_type": "stream",
          "name": "stdout",
          "text": [
            "range(0, 10)\n",
            "[0, 1, 2, 3, 4, 5, 6, 7, 8, 9]\n",
            "[2, 3, 4, 5, 6, 7]\n",
            "[2, 5, 8, 11, 14, 17]\n"
          ]
        }
      ]
    },
    {
      "cell_type": "code",
      "source": [
        "# Program to iterate through a list using indexing\n",
        "name = ['Dhyey', 'Trisha', 'Vriha']\n",
        "\n",
        "# iterate over the list using index\n",
        "for i in range(len(name)):\n",
        "    print(\"I am\", name[i])\n"
      ],
      "metadata": {
        "colab": {
          "base_uri": "https://localhost:8080/"
        },
        "id": "hUHSp979-8eS",
        "outputId": "661f51b9-217b-444f-d451-8fd6fd7a9f75"
      },
      "execution_count": null,
      "outputs": [
        {
          "output_type": "stream",
          "name": "stdout",
          "text": [
            "I am Dhyey\n",
            "I am Trisha\n",
            "I am Vriha\n"
          ]
        }
      ]
    },
    {
      "cell_type": "code",
      "source": [
        "# Python program to illustrate\n",
        "# combining else with for\n",
        "\n",
        "list = [\"C\", \"Java\", \"Python\"]\n",
        "for index in range(len(list)):\n",
        "\tprint (list[index])\n",
        "else:\n",
        "\tprint(\"Inside Else Block\")\n"
      ],
      "metadata": {
        "colab": {
          "base_uri": "https://localhost:8080/"
        },
        "id": "0ZUXVFKo_hNZ",
        "outputId": "20ae963b-e1ac-4720-adee-13ad5dfcd62d"
      },
      "execution_count": null,
      "outputs": [
        {
          "output_type": "stream",
          "name": "stdout",
          "text": [
            "C\n",
            "Java\n",
            "Python\n",
            "Inside Else Block\n"
          ]
        }
      ]
    },
    {
      "cell_type": "code",
      "source": [
        "# Python program to illustrate\n",
        "# nested for loops in Python\n",
        "from __future__ import print_function\n",
        "for i in range(1, 5):\n",
        "\tfor j in range(i):\n",
        "\t\tprint(i, end=' ')\n",
        "\tprint()\n"
      ],
      "metadata": {
        "colab": {
          "base_uri": "https://localhost:8080/"
        },
        "id": "csdQbWA-_66l",
        "outputId": "05e330f9-0bb9-4f1f-a231-b98b724e24f3"
      },
      "execution_count": null,
      "outputs": [
        {
          "output_type": "stream",
          "name": "stdout",
          "text": [
            "1 \n",
            "2 2 \n",
            "3 3 3 \n",
            "4 4 4 4 \n"
          ]
        }
      ]
    },
    {
      "cell_type": "code",
      "source": [
        "# Python program to demonstrate\n",
        "# Creation of List\n",
        "List1 = []\n",
        "print(\"Blank List: \")\n",
        "print(List1)\n",
        "\n",
        "# Creating a List of numbers\n",
        "List = [10, 20, 14]\n",
        "print(\"\\nList of numbers: \")\n",
        "print(List[0])\n",
        "\n",
        "# Creating a List of strings and accessing\n",
        "# using index\n",
        "List = [\"BCA\", \"BBA\", \"BCom\"]\n",
        "print(\"\\nList Items: \")\n",
        "print(List[0])\n",
        "print(List[2])\n",
        "print(List)\n",
        "\n",
        "# Creating a Multi-Dimensional List\n",
        "# (By Nesting a list inside a List)\n",
        "List = [['BCA', 'BBA'] , ['DolatUsha']]\n",
        "print(\"\\nMulti-Dimensional List: \")\n",
        "print(List)\n",
        "print(List[1][0])\n"
      ],
      "metadata": {
        "colab": {
          "base_uri": "https://localhost:8080/"
        },
        "id": "6BtJI404-mCZ",
        "outputId": "d2a85202-4430-4f37-e0df-77217e01877c"
      },
      "execution_count": null,
      "outputs": [
        {
          "output_type": "stream",
          "name": "stdout",
          "text": [
            "Blank List: \n",
            "[]\n",
            "\n",
            "List of numbers: \n",
            "10\n",
            "\n",
            "List Items: \n",
            "BCA\n",
            "BCom\n",
            "['BCA', 'BBA', 'BCom']\n",
            "\n",
            "Multi-Dimensional List: \n",
            "[['BCA', 'BBA'], ['DolatUsha']]\n",
            "DolatUsha\n"
          ]
        }
      ]
    },
    {
      "cell_type": "code",
      "source": [
        "# Creating a List\n",
        "List1 = []\n",
        "print(len(List1))\n",
        "  \n",
        "# Creating a List of numbers\n",
        "List2 = [10, 20, 14]\n",
        "print(len(List2))\n"
      ],
      "metadata": {
        "colab": {
          "base_uri": "https://localhost:8080/"
        },
        "id": "15geu2hI_qYL",
        "outputId": "9eea1dd1-3408-47c2-87e1-7e2cbd0b4ab4"
      },
      "execution_count": null,
      "outputs": [
        {
          "output_type": "stream",
          "name": "stdout",
          "text": [
            "0\n",
            "3\n"
          ]
        }
      ]
    },
    {
      "cell_type": "code",
      "source": [
        "# Python program to demonstrate \n",
        "# Addition of elements in a List\n",
        "  \n",
        "# Creating a List\n",
        "List = []\n",
        "print(\"Initial blank List: \")\n",
        "print(List)\n",
        "  \n",
        "# Addition of Elements \n",
        "# in the List\n",
        "List.append(1)\n",
        "List.append(2)\n",
        "List.append(4)\n",
        "print(\"\\nList after Addition of Three elements: \")\n",
        "print(List)\n",
        "  \n",
        "# Adding elements to the List\n",
        "# using Iterator\n",
        "for i in range(1, 4):\n",
        "    List.append(i)\n",
        "print(\"\\nList after Addition of elements from 1-3: \")\n",
        "print(List)\n",
        "  \n",
        "# Addition of List to a List\n",
        "List2 = ['DolatUsha', 'FYBCA']\n",
        "List.append(List2)\n",
        "print(\"\\nList after Addition of a List: \")\n",
        "print(List)\n"
      ],
      "metadata": {
        "colab": {
          "base_uri": "https://localhost:8080/"
        },
        "id": "Zk25LluOAb_1",
        "outputId": "f2dad65a-d5db-4b5b-d350-75ade17ef9c2"
      },
      "execution_count": null,
      "outputs": [
        {
          "output_type": "stream",
          "name": "stdout",
          "text": [
            "Initial blank List: \n",
            "[]\n",
            "\n",
            "List after Addition of Three elements: \n",
            "[1, 2, 4]\n",
            "\n",
            "List after Addition of elements from 1-3: \n",
            "[1, 2, 4, 1, 2, 3]\n",
            "\n",
            "List after Addition of a List: \n",
            "[1, 2, 4, 1, 2, 3, ['DolatUsha', 'FYBCA']]\n"
          ]
        }
      ]
    },
    {
      "cell_type": "code",
      "source": [
        "# Python program to demonstrate\n",
        "# Addition of elements in a List\n",
        "# Creating a List\n",
        "List = [1,2,3,4]\n",
        "print(\"Initial List: \")\n",
        "print(List)\n",
        "# Addition of Element at\n",
        "# specific Position\n",
        "# (using Insert Method)\n",
        "List.insert(3, 12)\n",
        "List.insert(0, 'BCA')\n",
        "print(\"\\nList after performing Insert Operation: \")\n",
        "print(List)\n"
      ],
      "metadata": {
        "colab": {
          "base_uri": "https://localhost:8080/"
        },
        "id": "61eC3mUdCAR8",
        "outputId": "66de69ec-b367-46b4-ce84-ba9fad467444"
      },
      "execution_count": null,
      "outputs": [
        {
          "output_type": "stream",
          "name": "stdout",
          "text": [
            "Initial List: \n",
            "[1, 2, 3, 4]\n",
            "\n",
            "List after performing Insert Operation: \n",
            "['BCA', 1, 2, 3, 12, 4]\n"
          ]
        }
      ]
    },
    {
      "cell_type": "code",
      "source": [
        "# Python program to demonstrate\n",
        "# Addition of elements in a List\n",
        "# Creating a List\n",
        "List = [1,2,3,4]\n",
        "print(\"Initial List: \")\n",
        "print(List)\n",
        "\n",
        "# Addition of multiple elements\n",
        "# to the List at the end\n",
        "# (using Extend Method)\n",
        "List.extend([8, 'BCA', 'BEST'])\n",
        "print(\"\\nList after performing Extend Operation: \")\n",
        "print(List)\n"
      ],
      "metadata": {
        "colab": {
          "base_uri": "https://localhost:8080/"
        },
        "id": "tuua9bzzC5Rg",
        "outputId": "6c47356e-0df7-4f2f-e425-27a737633da9"
      },
      "execution_count": null,
      "outputs": [
        {
          "output_type": "stream",
          "name": "stdout",
          "text": [
            "Initial List: \n",
            "[1, 2, 3, 4]\n",
            "\n",
            "List after performing Extend Operation: \n",
            "[1, 2, 3, 4, 8, 'BCA', 'BEST']\n"
          ]
        }
      ]
    },
    {
      "cell_type": "code",
      "source": [
        "# Python program to demonstrate\n",
        "# accessing of element from list\n",
        "\n",
        "# Creating a List with\n",
        "# the use of multiple values\n",
        "List = [\"Disha\", \"Kunj\", \"Prisha\"]\n",
        "\n",
        "# accessing a element from the\n",
        "# list using index number\n",
        "print(\"Accessing a element from the list\")\n",
        "print(List[0])\n",
        "print(List[2])\n",
        "\n",
        "# Creating a Multi-Dimensional List\n",
        "# (By Nesting a list inside a List)\n",
        "List = [['Disha', 'Prisha'] , ['Kunj']]\n",
        "\n",
        "# accessing an element from the\n",
        "# Multi-Dimensional List using\n",
        "# index number\n",
        "print(\"Acessing a element from a Multi-Dimensional list\")\n",
        "print(List[0][1])\n",
        "print(List[1][0])\n"
      ],
      "metadata": {
        "colab": {
          "base_uri": "https://localhost:8080/"
        },
        "id": "4q6Pf7oQDdF4",
        "outputId": "2fe9dfa9-3b56-40c0-8000-6db394fe7ddb"
      },
      "execution_count": null,
      "outputs": [
        {
          "output_type": "stream",
          "name": "stdout",
          "text": [
            "Accessing a element from the list\n",
            "Disha\n",
            "Prisha\n",
            "Acessing a element from a Multi-Dimensional list\n",
            "Prisha\n",
            "Kunj\n"
          ]
        }
      ]
    },
    {
      "cell_type": "code",
      "source": [
        "List = [1, 2, 'abc', 4, 'pqr', 6, 'xyz']\n",
        "\n",
        "# accessing a element using\n",
        "# negative indexing\n",
        "print(\"Accessing element using negative indexing\")\n",
        "\n",
        "# print the last element of list\n",
        "print(List[-1])\n",
        "\n",
        "# print the third last element of list\n",
        "print(List[-3])\n"
      ],
      "metadata": {
        "colab": {
          "base_uri": "https://localhost:8080/"
        },
        "id": "DQclDxB_EhGx",
        "outputId": "a5b56929-5450-4110-e3c3-b920f5e2e0ee"
      },
      "execution_count": null,
      "outputs": [
        {
          "output_type": "stream",
          "name": "stdout",
          "text": [
            "Accessing element using negative indexing\n",
            "xyz\n",
            "pqr\n"
          ]
        }
      ]
    },
    {
      "cell_type": "code",
      "source": [
        "# Python program to demonstrate \n",
        "# Removal of elements in a List\n",
        "  \n",
        "# Creating a List\n",
        "List = [1, 2, 3, 4, 5, 6, 7, 8, 9, 10, 11, 12]\n",
        "print(\"Intial List: \")\n",
        "print(List)\n",
        "  \n",
        "# Removing elements from List\n",
        "# using Remove() method\n",
        "List.remove(5)\n",
        "List.remove(6)\n",
        "print(\"\\nList after Removal of two elements: \")\n",
        "print(List)\n",
        "  \n",
        "# Removing elements from List\n",
        "# using iterator method\n",
        "for i in range(1, 5):\n",
        "    List.remove(i)\n",
        "print(\"\\nList after Removing a range of elements: \")\n",
        "print(List)\n"
      ],
      "metadata": {
        "colab": {
          "base_uri": "https://localhost:8080/"
        },
        "id": "xHTFptAQFFpZ",
        "outputId": "1c61dc59-0dfa-4e2b-b196-6211118c386a"
      },
      "execution_count": null,
      "outputs": [
        {
          "output_type": "stream",
          "name": "stdout",
          "text": [
            "Intial List: \n",
            "[1, 2, 3, 4, 5, 6, 7, 8, 9, 10, 11, 12]\n",
            "\n",
            "List after Removal of two elements: \n",
            "[1, 2, 3, 4, 7, 8, 9, 10, 11, 12]\n",
            "\n",
            "List after Removing a range of elements: \n",
            "[7, 8, 9, 10, 11, 12]\n"
          ]
        }
      ]
    },
    {
      "cell_type": "code",
      "source": [
        "List = [1,2,3,4,5]\n",
        "  \n",
        "# Removing element from the \n",
        "# List using the pop() method\n",
        "List.pop()\n",
        "print(\"\\nList after popping an element: \")\n",
        "print(List)\n",
        "  \n",
        "# Removing element at a \n",
        "# specific location from the \n",
        "# Set using the pop() method\n",
        "List.pop(2)\n",
        "print(\"\\nList after popping a specific element: \")\n",
        "print(List)\n"
      ],
      "metadata": {
        "colab": {
          "base_uri": "https://localhost:8080/"
        },
        "id": "G-IPrrvNF6A-",
        "outputId": "773ce674-9774-4c12-b92b-8a0b87f2b03f"
      },
      "execution_count": null,
      "outputs": [
        {
          "output_type": "stream",
          "name": "stdout",
          "text": [
            "\n",
            "List after popping an element: \n",
            "[1, 2, 3, 4]\n",
            "\n",
            "List after popping a specific element: \n",
            "[1, 2, 4]\n"
          ]
        }
      ]
    },
    {
      "cell_type": "code",
      "source": [
        "# Python program to demonstrate \n",
        "# Removal of elements in a List\n",
        "  \n",
        "# Creating a List\n",
        "List = ['P','Y','T','H','O','N','P','R','O','G','R','A','M']\n",
        "print(\"Intial List: \")\n",
        "print(List)\n",
        "  \n",
        "# Print elements of a range\n",
        "# using Slice operation\n",
        "Sliced_List = List[3:8]\n",
        "print(\"\\nSlicing elements in a range 3-8: \")\n",
        "print(Sliced_List)\n",
        "  \n",
        "# Print elements from a \n",
        "# pre-defined point to end\n",
        "Sliced_List = List[5:]\n",
        "print(\"\\nElements sliced from 5th \"\n",
        "      \"element till the end: \")\n",
        "print(Sliced_List)\n",
        "  \n",
        "# Printing elements from\n",
        "# beginning till end\n",
        "Sliced_List = List[:5]\n",
        "print(\"\\nPrinting all elements using slice operation: \")\n",
        "print(Sliced_List)\n"
      ],
      "metadata": {
        "colab": {
          "base_uri": "https://localhost:8080/"
        },
        "id": "Ha_SvoQxGu0n",
        "outputId": "31b193eb-faac-446e-eae5-77c13ed2f1ab"
      },
      "execution_count": null,
      "outputs": [
        {
          "output_type": "stream",
          "name": "stdout",
          "text": [
            "Intial List: \n",
            "['P', 'Y', 'T', 'H', 'O', 'N', 'P', 'R', 'O', 'G', 'R', 'A', 'M']\n",
            "\n",
            "Slicing elements in a range 3-8: \n",
            "['H', 'O', 'N', 'P', 'R']\n",
            "\n",
            "Elements sliced from 5th element till the end: \n",
            "['N', 'P', 'R', 'O', 'G', 'R', 'A', 'M']\n",
            "\n",
            "Printing all elements using slice operation: \n",
            "['P', 'Y', 'T', 'H', 'O']\n"
          ]
        }
      ]
    },
    {
      "cell_type": "code",
      "source": [
        "# Creating a List\n",
        "List = ['P','Y','T','H','O','N','P','R','O','G','R','A','M']\n",
        "print(\"Initial List: \")\n",
        "print(List)\n",
        "  \n",
        "# Print elements from beginning\n",
        "# to a pre-defined point using Slice\n",
        "Sliced_List = List[:-6]\n",
        "print(\"\\nElements sliced till 6th element from last: \")\n",
        "print(Sliced_List)\n",
        "  \n",
        "# Print elements of a range\n",
        "# using negative index List slicing\n",
        "Sliced_List = List[-6:-1]\n",
        "print(\"\\nElements sliced from index -6 to -1\")\n",
        "print(Sliced_List)\n",
        "  \n",
        "# Printing elements in reverse\n",
        "# using Slice operation\n",
        "Sliced_List = List[::-1]\n",
        "print(\"\\nPrinting List in reverse: \")\n",
        "print(Sliced_List)\n"
      ],
      "metadata": {
        "colab": {
          "base_uri": "https://localhost:8080/"
        },
        "id": "zHLpJbM0H1Q2",
        "outputId": "bcbc4dec-0db7-47a9-ef56-41e0a13213f9"
      },
      "execution_count": null,
      "outputs": [
        {
          "output_type": "stream",
          "name": "stdout",
          "text": [
            "Initial List: \n",
            "['P', 'Y', 'T', 'H', 'O', 'N', 'P', 'R', 'O', 'G', 'R', 'A', 'M']\n",
            "\n",
            "Elements sliced till 6th element from last: \n",
            "['P', 'Y', 'T', 'H', 'O', 'N', 'P']\n",
            "\n",
            "Elements sliced from index -6 to -1\n",
            "['R', 'O', 'G', 'R', 'A']\n",
            "\n",
            "Printing List in reverse: \n",
            "['M', 'A', 'R', 'G', 'O', 'R', 'P', 'N', 'O', 'H', 'T', 'Y', 'P']\n"
          ]
        }
      ]
    },
    {
      "cell_type": "code",
      "source": [
        "# Python program to clear a list\n",
        "# using clear() method \n",
        "# Creating list\n",
        "list = [6, 0, 4, 1]\n",
        "print('List before clear:', list) \n",
        "  \n",
        "# Clearing list \n",
        "list.clear() \n",
        "print('List after clear:', list) \n"
      ],
      "metadata": {
        "colab": {
          "base_uri": "https://localhost:8080/"
        },
        "id": "JL9BrCuCJCgg",
        "outputId": "b214c7cb-42c6-47c1-b3c4-297f3d32636b"
      },
      "execution_count": null,
      "outputs": [
        {
          "output_type": "stream",
          "name": "stdout",
          "text": [
            "List before clear: [6, 0, 4, 1]\n",
            "List after clear: []\n"
          ]
        }
      ]
    },
    {
      "cell_type": "code",
      "source": [
        "# mixed list\n",
        "my_list = ['cat', 0, 6.7]\n",
        "# copying a list\n",
        "new_list = my_list.copy()\n",
        "print('Copied List:', new_list)\n",
        "# Adding an element to the new list\n",
        "new_list.append('dog')\n",
        "# Printing new and old list\n",
        "print('Old List:', my_list)\n",
        "print('New List:', new_list)\n"
      ],
      "metadata": {
        "colab": {
          "base_uri": "https://localhost:8080/"
        },
        "id": "kM6yfWocJThI",
        "outputId": "7cdd7dfb-bea3-42d5-b1c8-82e9c6e552c6"
      },
      "execution_count": null,
      "outputs": [
        {
          "output_type": "stream",
          "name": "stdout",
          "text": [
            "Copied List: ['cat', 0, 6.7]\n",
            "Old List: ['cat', 0, 6.7]\n",
            "New List: ['cat', 0, 6.7, 'dog']\n"
          ]
        }
      ]
    },
    {
      "cell_type": "code",
      "source": [
        "# Python3 program to count the number of times\n",
        "# an object appears in a list using count() method\n",
        "\n",
        "list1 = [1, 1, 1, 2, 3, 2, 1]\n",
        "\n",
        "# Counts the number of times 1 appears in list1\n",
        "print(list1.count(1))\n",
        "\n",
        "list2 = ['a', 'a', 'a', 'b', 'b', 'a', 'c', 'b']\n",
        "\n",
        "# Counts the number of times 'b' appears in list2\n",
        "print(list2.count('b'))\n",
        "\n",
        "list3 = ['Cat', 'Bat', 'Sat', 'Cat', 'cat', 'Mat']\n",
        "\n",
        "# Counts the number of times 'Cat' appears in list3\n",
        "print(list3.count('Cat'))\n"
      ],
      "metadata": {
        "colab": {
          "base_uri": "https://localhost:8080/"
        },
        "id": "aZAKDitXJuNx",
        "outputId": "3a3f385f-60d2-488c-a95f-13c3676e2660"
      },
      "execution_count": null,
      "outputs": [
        {
          "output_type": "stream",
          "name": "stdout",
          "text": [
            "4\n",
            "3\n",
            "2\n"
          ]
        }
      ]
    },
    {
      "cell_type": "code",
      "source": [
        "# Python3 program for demonstration\n",
        "# of list index() method\n",
        "list1 = [1, 2, 3, 4, 1, 1, 1, 4, 5]\n",
        "# Will print the index of '4' in list1\n",
        "print(list1.index(4))\n",
        "list2 = ['cat', 'bat', 'mat', 'cat', 'pet']\n",
        "# Will print the index of 'cat' in list2\n",
        "print(list2.index('cat'))\n"
      ],
      "metadata": {
        "colab": {
          "base_uri": "https://localhost:8080/"
        },
        "id": "KOdXZadvKMpO",
        "outputId": "36bab48a-36d1-4a67-e2cc-b574dc9bfa3c"
      },
      "execution_count": null,
      "outputs": [
        {
          "output_type": "stream",
          "name": "stdout",
          "text": [
            "3\n",
            "0\n"
          ]
        }
      ]
    },
    {
      "cell_type": "code",
      "source": [
        "# Python3 program to demonstrate the\n",
        "# use of reverse method\n",
        "# a list of numbers\n",
        "list1 = [1, 2, 3, 4, 1, 2, 6]\n",
        "list1.reverse()\n",
        "print(list1)\n",
        "\n",
        "# a list of characters\n",
        "list2 = ['a', 'b', 'c', 'd', 'a', 'a']\n",
        "list2.reverse()\n",
        "print(list2)\n"
      ],
      "metadata": {
        "colab": {
          "base_uri": "https://localhost:8080/"
        },
        "id": "JMYNJLC4RlG_",
        "outputId": "4f6aea04-ba1a-4c5c-e86a-56851b48241e"
      },
      "execution_count": null,
      "outputs": [
        {
          "output_type": "stream",
          "name": "stdout",
          "text": [
            "[6, 2, 1, 4, 3, 2, 1]\n",
            "['a', 'a', 'd', 'c', 'b', 'a']\n"
          ]
        }
      ]
    },
    {
      "cell_type": "code",
      "source": [
        "numbers = [\"abc\", \"aaa\", \"abb\", \"bbb\"]\n",
        "# Sorting list of Integers in ascending\n",
        "numbers.sort()\n",
        "print(numbers)\n"
      ],
      "metadata": {
        "colab": {
          "base_uri": "https://localhost:8080/"
        },
        "id": "NTFuLxXaR2zO",
        "outputId": "e0a46b8f-b1f3-4595-85b5-60ec9190f20e"
      },
      "execution_count": null,
      "outputs": [
        {
          "output_type": "stream",
          "name": "stdout",
          "text": [
            "['aaa', 'abb', 'abc', 'bbb']\n"
          ]
        }
      ]
    },
    {
      "cell_type": "code",
      "source": [
        "numbers = [1, 3, 4, 2]\n",
        " # Sorting list of Integers in descending\n",
        "numbers.sort(reverse = True)\n",
        "print(numbers)\n",
        "\n"
      ],
      "metadata": {
        "id": "75MgHFRuSFjG",
        "colab": {
          "base_uri": "https://localhost:8080/"
        },
        "outputId": "d988d776-5fa3-4993-e140-ab96f2787eda"
      },
      "execution_count": null,
      "outputs": [
        {
          "output_type": "stream",
          "name": "stdout",
          "text": [
            "[4, 3, 2, 1]\n"
          ]
        }
      ]
    }
  ]
}