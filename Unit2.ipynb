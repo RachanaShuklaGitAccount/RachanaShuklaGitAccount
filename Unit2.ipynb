{
  "nbformat": 4,
  "nbformat_minor": 0,
  "metadata": {
    "colab": {
      "name": "Unit2.ipynb",
      "provenance": [],
      "authorship_tag": "ABX9TyO/y98I1lBAsv6LI+8GVrdM",
      "include_colab_link": true
    },
    "kernelspec": {
      "name": "python3",
      "display_name": "Python 3"
    },
    "language_info": {
      "name": "python"
    }
  },
  "cells": [
    {
      "cell_type": "markdown",
      "metadata": {
        "id": "view-in-github",
        "colab_type": "text"
      },
      "source": [
        "<a href=\"https://colab.research.google.com/github/RachanaShuklaGitAccount/RachanaShuklaGitAccount/blob/main/Unit2.ipynb\" target=\"_parent\"><img src=\"https://colab.research.google.com/assets/colab-badge.svg\" alt=\"Open In Colab\"/></a>"
      ]
    },
    {
      "cell_type": "code",
      "source": [
        "# Declare a variable and initialize it  \n",
        "x = 101  \n",
        "  \n",
        "# Global variable in function  \n",
        "def mainFunction():  \n",
        "    # printing a global variable  \n",
        "    global x  \n",
        "    print(x)  \n",
        "    # modifying a global variable  \n",
        "    x = 'Welcome To BCA'  \n",
        "    print(x)  \n",
        "  \n",
        "mainFunction()  \n",
        "print(x)  \n"
      ],
      "metadata": {
        "colab": {
          "base_uri": "https://localhost:8080/"
        },
        "id": "0_whJlA62SkK",
        "outputId": "3e7754c1-1999-46e8-eba5-9ea0f54c5e23"
      },
      "execution_count": null,
      "outputs": [
        {
          "output_type": "stream",
          "name": "stdout",
          "text": [
            "101\n",
            "Welcome To BCA\n",
            "Welcome To BCA\n"
          ]
        }
      ]
    },
    {
      "cell_type": "code",
      "source": [
        "a=input(\"Enter no1 : \")\n",
        "b=input(\"Enter no2 : \")\n",
        "c=float(a)+float(b)\n",
        "print(c)\n"
      ],
      "metadata": {
        "colab": {
          "base_uri": "https://localhost:8080/"
        },
        "id": "cl1Jl9WcG2xZ",
        "outputId": "ac1ab7bf-8fda-40cf-ea0d-ddeec9bb8e5f"
      },
      "execution_count": null,
      "outputs": [
        {
          "output_type": "stream",
          "name": "stdout",
          "text": [
            "Enter no1 : 3.5\n",
            "Enter no2 : 2.5\n",
            "3.52.5\n"
          ]
        }
      ]
    },
    {
      "cell_type": "code",
      "source": [
        "l=input(\"Enter value of L : \")\n",
        "b= input(\"Enter value of b : \")\n",
        "area=float(l)*float(b)\n",
        "print(area)"
      ],
      "metadata": {
        "colab": {
          "base_uri": "https://localhost:8080/"
        },
        "id": "is22DIJNH6gu",
        "outputId": "cf75dc9c-9447-4f2c-b62b-f9b32189fa76"
      },
      "execution_count": null,
      "outputs": [
        {
          "output_type": "stream",
          "name": "stdout",
          "text": [
            "Enter value of L : 3.5\n",
            "Enter value of b : 2\n",
            "7.0\n"
          ]
        }
      ]
    },
    {
      "cell_type": "code",
      "source": [
        "\"\"\"\n",
        "This is a comment\n",
        "written in\n",
        "more than just one line\n",
        "\"\"\"\n",
        "print(\"Hello, World!\")\n"
      ],
      "metadata": {
        "colab": {
          "base_uri": "https://localhost:8080/"
        },
        "id": "6eTpgSc64YUt",
        "outputId": "322524b2-7c95-4a27-8936-64906c591802"
      },
      "execution_count": null,
      "outputs": [
        {
          "output_type": "stream",
          "name": "stdout",
          "text": [
            "Hello, World!\n"
          ]
        }
      ]
    },
    {
      "cell_type": "code",
      "source": [
        "x, y, z = \"Orange\", \"Banana\", \"Cherry\"\n",
        "print(x)\n",
        "print(y)\n",
        "print(z)\n"
      ],
      "metadata": {
        "colab": {
          "base_uri": "https://localhost:8080/"
        },
        "id": "n1bqC7a24kkn",
        "outputId": "9e71e2e0-56f0-4a8e-f7d8-264eaae335ba"
      },
      "execution_count": null,
      "outputs": [
        {
          "output_type": "stream",
          "name": "stdout",
          "text": [
            "Orange\n",
            "Banana\n",
            "Cherry\n"
          ]
        }
      ]
    },
    {
      "cell_type": "code",
      "source": [
        "x = y = z = \"Orange\"\n",
        "print(x)\n",
        "print(y)\n",
        "print(z)\n"
      ],
      "metadata": {
        "colab": {
          "base_uri": "https://localhost:8080/"
        },
        "id": "60XFoPJW40PU",
        "outputId": "4ea46bd7-3a9f-4d56-f189-e80883cd682e"
      },
      "execution_count": null,
      "outputs": [
        {
          "output_type": "stream",
          "name": "stdout",
          "text": [
            "Orange\n",
            "Orange\n",
            "Orange\n"
          ]
        }
      ]
    },
    {
      "cell_type": "code",
      "source": [
        "print(\"assigning values of different datatypes\")\n",
        "a, b, c, d = 4, \"BCA\", 3.14, True\n",
        "print(a)\n",
        "print(b)\n",
        "print(c)\n",
        "print(d)\n"
      ],
      "metadata": {
        "colab": {
          "base_uri": "https://localhost:8080/"
        },
        "id": "-botiEDe481J",
        "outputId": "4e794db5-935e-4545-a03b-c9e0b22766b7"
      },
      "execution_count": null,
      "outputs": [
        {
          "output_type": "stream",
          "name": "stdout",
          "text": [
            "assigning values of different datatypes\n",
            "4\n",
            "BCA\n",
            "3.14\n",
            "True\n"
          ]
        }
      ]
    },
    {
      "cell_type": "code",
      "source": [
        "# Python program to\n",
        "# demonstrate numeric value\n",
        "a = 0o144\n",
        "print(a)\n",
        "print(\"Type of a: \", type(a))\n",
        "b = 5.0\n",
        "print(\"\\nType of b: \", type(b))\n",
        "c = 2 + 4j\n",
        "print(\"\\nType of c: \", type(c))\n"
      ],
      "metadata": {
        "colab": {
          "base_uri": "https://localhost:8080/"
        },
        "id": "nS4kwxpb-J5O",
        "outputId": "76c6401a-cdc2-4e5c-bb54-f79daca6659c"
      },
      "execution_count": null,
      "outputs": [
        {
          "output_type": "stream",
          "name": "stdout",
          "text": [
            "100\n",
            "Type of a:  <class 'int'>\n",
            "\n",
            "Type of b:  <class 'float'>\n",
            "\n",
            "Type of c:  <class 'complex'>\n"
          ]
        }
      ]
    },
    {
      "cell_type": "code",
      "source": [
        "# Python Program for\n",
        "# Creation of String\n",
        "\t\n",
        "# Creating a String\n",
        "# with single Quotes\n",
        "String1 = 'We learn python programming'\n",
        "print(\"String with the use of Single Quotes: \")\n",
        "print(String1)\n",
        "\t\n",
        "# Creating a String\n",
        "# with double Quotes\n",
        "String1 = \"I'm learning python\"\n",
        "print(\"\\nString with the use of Double Quotes: \")\n",
        "print(String1)\n",
        "print(type(String1))\n",
        "\t\n",
        "# Creating a String\n",
        "# with triple Quotes\n",
        "String1 = '''I'm learning \"python\"'''\n",
        "print(\"\\nString with the use of Triple Quotes: \")\n",
        "print(String1)\n",
        "print(type(String1))\n",
        "\n",
        "string1='\"Rachana\"'\n",
        "print(string1)\n",
        "\n",
        "# Creating String with triple\n",
        "# Quotes allows multiple lines\n",
        "String1 = '''Welcome\n",
        "\t\t\tto\n",
        "\t\t\tBCA'''\n",
        "print(\"\\nCreating a multiline String: \")\n",
        "print(String1)\n"
      ],
      "metadata": {
        "colab": {
          "base_uri": "https://localhost:8080/"
        },
        "id": "BNm5OioD_X4f",
        "outputId": "3059d3d1-fbf6-4018-982f-74128912a873"
      },
      "execution_count": null,
      "outputs": [
        {
          "output_type": "stream",
          "name": "stdout",
          "text": [
            "String with the use of Single Quotes: \n",
            "We learn python programming\n",
            "\n",
            "String with the use of Double Quotes: \n",
            "I'm learning python\n",
            "<class 'str'>\n",
            "\n",
            "String with the use of Triple Quotes: \n",
            "I'm learning \"python\"\n",
            "<class 'str'>\n",
            "\"Rachana\"\n",
            "\n",
            "Creating a multiline String: \n",
            "Welcome\n",
            "\t\t\tto\n",
            "\t\t\tBCA\n"
          ]
        }
      ]
    },
    {
      "cell_type": "code",
      "source": [
        "# Python Program to Access\n",
        "# characters of String\n",
        "\t\n",
        "String1 = \"Programming Skills\"\n",
        "print(\"Initial String: \")\n",
        "print(String1)\n",
        "\t\n",
        "# Printing First character\n",
        "print(\"\\nFirst character of String is: \")\n",
        "print(String1[0])\n",
        "\t\n",
        "# Printing Last character\n",
        "print(\"\\nLast character of String is: \")\n",
        "print(String1[-1])\n",
        "print(String1[3:7])\n",
        "print(String1[3:])\n",
        "print(String1[:5])\n",
        "print(String1[5:8])\n",
        "\n",
        "\n",
        "\n"
      ],
      "metadata": {
        "colab": {
          "base_uri": "https://localhost:8080/"
        },
        "id": "s7oLSKdLA3h_",
        "outputId": "bebf6e2b-6fe5-4d97-def5-d4a93e7a803e"
      },
      "execution_count": null,
      "outputs": [
        {
          "output_type": "stream",
          "name": "stdout",
          "text": [
            "Initial String: \n",
            "Programming Skills\n",
            "\n",
            "First character of String is: \n",
            "P\n",
            "\n",
            "Last character of String is: \n",
            "s\n",
            "gram\n",
            "gramming Skills\n",
            "Progr\n",
            "amm\n"
          ]
        }
      ]
    },
    {
      "cell_type": "code",
      "source": [
        "# Python program to\n",
        "# demonstrate boolean type\n",
        "\n",
        "print(type(True))\n",
        "print(type(False))\n",
        "\n",
        "\n"
      ],
      "metadata": {
        "colab": {
          "base_uri": "https://localhost:8080/"
        },
        "id": "dWkzURYdCFoC",
        "outputId": "2823b14b-7e8f-43ee-bb71-fb154634bb40"
      },
      "execution_count": null,
      "outputs": [
        {
          "output_type": "stream",
          "name": "stdout",
          "text": [
            "<class 'bool'>\n",
            "<class 'bool'>\n"
          ]
        }
      ]
    },
    {
      "cell_type": "code",
      "source": [
        "num_int = 123\n",
        "num_flo = 1.23\n",
        "num_new = num_int + num_flo\n",
        "print(\"datatype of num_int:\",type(num_int))\n",
        "print(\"datatype of num_flo:\",type(num_flo))\n",
        "print(\"Value of num_new:\",num_new)\n",
        "print(\"datatype of num_new:\",type(num_new))\n"
      ],
      "metadata": {
        "colab": {
          "base_uri": "https://localhost:8080/"
        },
        "id": "SbvsY9AFDIhI",
        "outputId": "423a4cc7-c9a5-4105-ccc7-216504e01198"
      },
      "execution_count": null,
      "outputs": [
        {
          "output_type": "stream",
          "name": "stdout",
          "text": [
            "datatype of num_int: <class 'int'>\n",
            "datatype of num_flo: <class 'float'>\n",
            "Value of num_new: 124.23\n",
            "datatype of num_new: <class 'float'>\n"
          ]
        }
      ]
    },
    {
      "cell_type": "code",
      "source": [
        "num_int = \"123\"\n",
        "num_str = \"456\"\n",
        "print(\"Data type of num_int:\",type(num_int))\n",
        "print(\"Data type of num_str:\",type(num_str))\n",
        "print(num_int+num_str)\n"
      ],
      "metadata": {
        "colab": {
          "base_uri": "https://localhost:8080/"
        },
        "id": "xCBxYi2vDcZe",
        "outputId": "a44472a6-626a-486a-be06-e9a10d5dddd3"
      },
      "execution_count": null,
      "outputs": [
        {
          "output_type": "stream",
          "name": "stdout",
          "text": [
            "Data type of num_int: <class 'str'>\n",
            "Data type of num_str: <class 'str'>\n",
            "123456\n"
          ]
        }
      ]
    },
    {
      "cell_type": "code",
      "source": [
        "num_int = 123\n",
        "num_str = \"456\"\n",
        "print(\"Data type of num_int:\",type(num_int))\n",
        "print(\"Data type of num_str before Type Casting:\",type(num_str))\n",
        "\n",
        "num_str = int(num_str)\n",
        "print(\"Data type of num_str after Type Casting:\",type(num_str))\n",
        "num_sum = num_int + num_str\n",
        "print(\"Sum of num_int and num_str:\",num_sum)\n",
        "print(\"Data type of the sum:\",type(num_sum))\n"
      ],
      "metadata": {
        "colab": {
          "base_uri": "https://localhost:8080/"
        },
        "id": "Ec49XtIQD8Gp",
        "outputId": "3ee8d1fd-3c02-49e1-b96d-98a96d8e61d5"
      },
      "execution_count": null,
      "outputs": [
        {
          "output_type": "stream",
          "name": "stdout",
          "text": [
            "Data type of num_int: <class 'int'>\n",
            "Data type of num_str before Type Casting: <class 'str'>\n",
            "Data type of num_str after Type Casting: <class 'int'>\n",
            "Sum of num_int and num_str: 579\n",
            "Data type of the sum: <class 'int'>\n"
          ]
        }
      ]
    },
    {
      "cell_type": "code",
      "source": [
        "# Python program to\n",
        "# demonstrate functions\n",
        "# Declaring a function\n",
        "def fun():\n",
        "\tprint(\"Inside function\")\n",
        "\n",
        "# Driver's code\n",
        "# Calling function\n",
        "fun()\n"
      ],
      "metadata": {
        "colab": {
          "base_uri": "https://localhost:8080/"
        },
        "id": "d5ExzKHZFcA9",
        "outputId": "f075db04-4b3a-4228-a4d7-aa7fc49b9d6a"
      },
      "execution_count": null,
      "outputs": [
        {
          "output_type": "stream",
          "name": "stdout",
          "text": [
            "Inside function\n"
          ]
        }
      ]
    },
    {
      "cell_type": "code",
      "source": [
        "def sum(a,b):\n",
        "   total = a + b\n",
        "   return total\n",
        "\n",
        "x = 10\n",
        "y = 20\n",
        "\n",
        "print(\"The sum of\",x,\"and\",y,\"is:\",sum(x, y))\n"
      ],
      "metadata": {
        "colab": {
          "base_uri": "https://localhost:8080/"
        },
        "id": "RaZTCrLpFlOz",
        "outputId": "ab86830b-3f6d-4f1c-908c-6873e6f6c854"
      },
      "execution_count": null,
      "outputs": [
        {
          "output_type": "stream",
          "name": "stdout",
          "text": [
            "The sum of 10 and 20 is: 30\n"
          ]
        }
      ]
    },
    {
      "cell_type": "code",
      "source": [
        "# Python program to demonstrate\n",
        "# default arguments\n",
        "def myFun(x, y=50):\n",
        "\tprint(\"x: \", x)\n",
        "\tprint(\"y: \", y)\n",
        "\t\n",
        "# Driver code (We call myFun() with only\n",
        "# argument)\n",
        "myFun(10,20)\n"
      ],
      "metadata": {
        "colab": {
          "base_uri": "https://localhost:8080/"
        },
        "id": "KtYlLFOoF15p",
        "outputId": "44285258-36bc-47ec-df1c-cd24ea3d8b54"
      },
      "execution_count": null,
      "outputs": [
        {
          "output_type": "stream",
          "name": "stdout",
          "text": [
            "x:  10\n",
            "y:  20\n"
          ]
        }
      ]
    },
    {
      "cell_type": "code",
      "source": [
        "def sum(a,b):\n",
        "   total = a + b\n",
        "   return total\n",
        "x = 10\n",
        "y = 20\n",
        "print(\"The sum of\",x,\"and\",y,\"is:\",sum(x, y))\n",
        "\n"
      ],
      "metadata": {
        "id": "rG3AZlVnGoCE"
      },
      "execution_count": null,
      "outputs": []
    },
    {
      "cell_type": "code",
      "source": [
        "a=input(\"Enter 1st number\")\n",
        "b=input(\"Enter 2nd number\")\n",
        "c=int(a)+int(b)\n",
        "print(\"\\n First number is \"+a)\n",
        "print(\"\\n Second number is \" + b)\n",
        "print(\"\\n Sum is \" )\n",
        "print(c)\n"
      ],
      "metadata": {
        "colab": {
          "base_uri": "https://localhost:8080/"
        },
        "id": "EFni1voDHDQd",
        "outputId": "e07b9e7e-c301-4043-d40c-f86fbba69238"
      },
      "execution_count": null,
      "outputs": [
        {
          "output_type": "stream",
          "name": "stdout",
          "text": [
            "Enter 1st number5\n",
            "Enter 2nd number8\n",
            "\n",
            " First number is 5\n",
            "\n",
            " Second number is 8\n",
            "\n",
            " Sum is \n",
            "13\n"
          ]
        }
      ]
    },
    {
      "cell_type": "code",
      "source": [
        "l=input(\"Enter Length\")\n",
        "b=input(\"Enter b\")\n",
        "area=int(l)*int(b)\n",
        "print(area)"
      ],
      "metadata": {
        "colab": {
          "base_uri": "https://localhost:8080/"
        },
        "id": "lWo7XTBzJMJv",
        "outputId": "76cace0f-738a-41fc-a775-7499d72ce9c1"
      },
      "execution_count": null,
      "outputs": [
        {
          "output_type": "stream",
          "name": "stdout",
          "text": [
            "Enter Length3\n",
            "Enter b4\n",
            "12\n"
          ]
        }
      ]
    },
    {
      "cell_type": "code",
      "source": [
        "# Python Program for\n",
        "# Creation of String\n",
        "\t\n",
        "# Creating a String\n",
        "# with single Quotes\n",
        "String1 = 'We learn python programming'\n",
        "print(\"String with the use of Single Quotes: \")\n",
        "print(String1)\n",
        "\t\n",
        "# Creating a String\n",
        "# with double Quotes\n",
        "String1 = \"I'm learning python\"\n",
        "print(\"\\nString with the use of Double Quotes: \")\n",
        "print(String1)\n",
        "print(type(String1))\n",
        "\t\n",
        "# Creating a String\n",
        "# with triple Quotes\n",
        "String1 = '''I'm learning \"python\"'''\n",
        "print(\"\\nString with the use of Triple Quotes: \")\n",
        "print(String1)\n",
        "print(type(String1))\n",
        "\n",
        "# Creating String with triple\n",
        "# Quotes allows multiple lines\n",
        "String1 = '''Welcome\n",
        "\t\t\tto\n",
        "\t\t\tBCA'''\n",
        "print(\"\\nCreating a multiline String: \")\n",
        "print(String1)\n"
      ],
      "metadata": {
        "colab": {
          "base_uri": "https://localhost:8080/"
        },
        "id": "xpifpgYs8ogZ",
        "outputId": "47030df9-ec64-4e85-f96e-1a55b4cdf0a8"
      },
      "execution_count": null,
      "outputs": [
        {
          "output_type": "stream",
          "name": "stdout",
          "text": [
            "String with the use of Single Quotes: \n",
            "We learn python programming\n",
            "\n",
            "String with the use of Double Quotes: \n",
            "I'm learning python\n",
            "<class 'str'>\n",
            "\n",
            "String with the use of Triple Quotes: \n",
            "I'm learning \"python\"\n",
            "<class 'str'>\n",
            "\n",
            "Creating a multiline String: \n",
            "Welcome\n",
            "\t\t\tto\n",
            "\t\t\tBCA\n"
          ]
        }
      ]
    },
    {
      "cell_type": "code",
      "source": [
        "# Python Program to Access\n",
        "# characters of String\n",
        "\t\n",
        "String1 = \"Programming Skills\"\n",
        "print(\"Initial String: \")\n",
        "print(String1)\n",
        "\t\n",
        "# Printing First character\n",
        "print(\"\\nFirst character of String is: \")\n",
        "print(String1[0])\n",
        "print(String1[1])\n",
        "\t\n",
        "# Printing Last character\n",
        "print(\"\\nLast character of String is: \")\n",
        "print(String1[-1])\n",
        "print(String1[3:7])\n",
        "print(String1[3:])\n",
        "print(String1[:5])\n"
      ],
      "metadata": {
        "colab": {
          "base_uri": "https://localhost:8080/"
        },
        "id": "oo83iIvXAyv7",
        "outputId": "a373bfa1-4147-45a9-d701-e22f183e8e32"
      },
      "execution_count": null,
      "outputs": [
        {
          "output_type": "stream",
          "name": "stdout",
          "text": [
            "Initial String: \n",
            "Programming Skills\n",
            "\n",
            "First character of String is: \n",
            "P\n",
            "r\n",
            "\n",
            "Last character of String is: \n",
            "s\n",
            "gram\n",
            "gramming Skills\n",
            "Progr\n"
          ]
        }
      ]
    },
    {
      "cell_type": "code",
      "source": [
        "str = input(\"Enter string\")\n",
        "print(str[:5])"
      ],
      "metadata": {
        "colab": {
          "base_uri": "https://localhost:8080/"
        },
        "id": "AtOL21MSBuEH",
        "outputId": "dccae788-22c9-48cd-cbfe-d5cf7b6c89b7"
      },
      "execution_count": null,
      "outputs": [
        {
          "output_type": "stream",
          "name": "stdout",
          "text": [
            "Enter stringandroidstudio\n",
            "andro\n"
          ]
        }
      ]
    },
    {
      "cell_type": "code",
      "source": [
        "# Python program to\n",
        "# demonstrate boolean type\n",
        "\n",
        "print(type(True))\n",
        "print(type(False))\n",
        "\n"
      ],
      "metadata": {
        "colab": {
          "base_uri": "https://localhost:8080/"
        },
        "id": "7AYWj9zICUT6",
        "outputId": "52dacdd3-7089-47dd-9297-e5cd3fa7a8d4"
      },
      "execution_count": null,
      "outputs": [
        {
          "output_type": "stream",
          "name": "stdout",
          "text": [
            "<class 'bool'>\n",
            "<class 'bool'>\n"
          ]
        }
      ]
    },
    {
      "cell_type": "code",
      "source": [
        "num_int = 123\n",
        "num_str = \"456\"\n",
        "print(\"Data type of num_int:\",type(num_int))\n",
        "print(\"Data type of num_str:\",type(num_str))\n",
        "s1= int(num_int)+int(num_str)\n",
        "print(s1)\n"
      ],
      "metadata": {
        "colab": {
          "base_uri": "https://localhost:8080/"
        },
        "id": "aGpP8hHxDA4c",
        "outputId": "330be1e6-33b6-43d8-cc77-c512ffad73b4"
      },
      "execution_count": null,
      "outputs": [
        {
          "output_type": "stream",
          "name": "stdout",
          "text": [
            "Data type of num_int: <class 'int'>\n",
            "Data type of num_str: <class 'str'>\n",
            "579\n"
          ]
        }
      ]
    },
    {
      "cell_type": "code",
      "source": [
        "num_int = 123\n",
        "num_str = \"456\"\n",
        "print(\"Data type of num_int:\",type(num_int))\n",
        "print(\"Data type of num_str before Type Casting:\",type(num_str))\n",
        "\n",
        "num_str = int(num_str)\n",
        "print(\"Data type of num_str after Type Casting:\",type(num_str))\n",
        "num_sum = num_int + num_str\n",
        "print(\"Sum of num_int and num_str:\",num_sum)\n",
        "print(\"Data type of the sum:\",type(num_sum))\n"
      ],
      "metadata": {
        "colab": {
          "base_uri": "https://localhost:8080/"
        },
        "id": "LmUxuzWSETOr",
        "outputId": "9d7aacad-6401-4295-cf6b-97e8659228d5"
      },
      "execution_count": null,
      "outputs": [
        {
          "output_type": "stream",
          "name": "stdout",
          "text": [
            "Data type of num_int: <class 'int'>\n",
            "Data type of num_str before Type Casting: <class 'str'>\n",
            "Data type of num_str after Type Casting: <class 'int'>\n",
            "Sum of num_int and num_str: 579\n",
            "Data type of the sum: <class 'int'>\n"
          ]
        }
      ]
    },
    {
      "cell_type": "code",
      "source": [
        "# Python program to\n",
        "# demonstrate functions\n",
        "# Declaring a function\n",
        "def fun():\n",
        "  print(\"Inside function\")\n",
        "  a=10\n",
        "  b=5\n",
        "  print(a+b)\n",
        "\n",
        "# Driver's code\n",
        "# Calling function\n",
        "fun()\n"
      ],
      "metadata": {
        "colab": {
          "base_uri": "https://localhost:8080/"
        },
        "id": "GfmIF50BE3dG",
        "outputId": "b8ee3c76-0f7b-4cd8-9f9f-4866d88fd3bf"
      },
      "execution_count": null,
      "outputs": [
        {
          "output_type": "stream",
          "name": "stdout",
          "text": [
            "Inside function\n",
            "15\n"
          ]
        }
      ]
    },
    {
      "cell_type": "code",
      "source": [
        "def sum(a,b):\n",
        "   total = a + b\n",
        "   return total\n",
        "\n",
        "x = 10\n",
        "y = 20\n",
        "\n",
        "print(\"The sum of\",x,\"and\",y,\"is:\",sum(x, y))\n"
      ],
      "metadata": {
        "colab": {
          "base_uri": "https://localhost:8080/"
        },
        "id": "s40cxFbKFb1m",
        "outputId": "06ac317e-5a52-464e-f91c-7a3caf3b2dd2"
      },
      "execution_count": null,
      "outputs": [
        {
          "output_type": "stream",
          "name": "stdout",
          "text": [
            "The sum of 10 and 20 is: 30\n"
          ]
        }
      ]
    },
    {
      "cell_type": "code",
      "source": [
        "# Python program to demonstrate\n",
        "# default arguments\n",
        "def myFun(x, y = 50):\n",
        "\tprint(\"x: \", x)\n",
        "\tprint(\"y: \", y)\n",
        "\t\n",
        "# Driver code (We call myFun() with only\n",
        "# argument)\n",
        "myFun(10,20)\n"
      ],
      "metadata": {
        "colab": {
          "base_uri": "https://localhost:8080/"
        },
        "id": "WAlXLNYvFy0r",
        "outputId": "25d7f933-aff0-4c80-8ffc-80e70ffb22bd"
      },
      "execution_count": null,
      "outputs": [
        {
          "output_type": "stream",
          "name": "stdout",
          "text": [
            "x:  10\n",
            "y:  20\n"
          ]
        }
      ]
    }
  ]
}