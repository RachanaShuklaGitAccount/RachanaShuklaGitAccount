{
  "nbformat": 4,
  "nbformat_minor": 0,
  "metadata": {
    "colab": {
      "name": "extraprog.ipynb",
      "provenance": [],
      "authorship_tag": "ABX9TyP2ktLx4pb4E2pySx/8sSSr",
      "include_colab_link": true
    },
    "kernelspec": {
      "name": "python3",
      "display_name": "Python 3"
    },
    "language_info": {
      "name": "python"
    }
  },
  "cells": [
    {
      "cell_type": "markdown",
      "metadata": {
        "id": "view-in-github",
        "colab_type": "text"
      },
      "source": [
        "<a href=\"https://colab.research.google.com/github/RachanaShuklaGitAccount/RachanaShuklaGitAccount/blob/main/extraprog.ipynb\" target=\"_parent\"><img src=\"https://colab.research.google.com/assets/colab-badge.svg\" alt=\"Open In Colab\"/></a>"
      ]
    },
    {
      "cell_type": "code",
      "execution_count": null,
      "metadata": {
        "colab": {
          "base_uri": "https://localhost:8080/"
        },
        "id": "NOeDUOSgWfV-",
        "outputId": "e851a487-216c-40be-b74f-4dd3f0739e3d"
      },
      "outputs": [
        {
          "output_type": "stream",
          "name": "stdout",
          "text": [
            "Enter 1st number3\n",
            "Enter 2nd number4\n",
            "Enter operator+\n",
            "Answer is 7\n"
          ]
        }
      ],
      "source": [
        "no1=input(\"Enter 1st number\")\n",
        "no2=input(\"Enter 2nd number\")\n",
        "op=input(\"Enter operator\")\n",
        "if(op=='+'):\n",
        "  ans=int(no1)+int(no2)\n",
        "elif(op=='-'):\n",
        "  ans=int(no1)-int(no2)\n",
        "print(\"Answer is\",ans)"
      ]
    },
    {
      "cell_type": "code",
      "source": [
        "str=input(\"Enter String\")\n",
        "#print(\"First 5 character\")\n",
        "print(str[-1::-2])\n",
        "#print(\"Last 7 character\")\n",
        "print(str[::-1])"
      ],
      "metadata": {
        "colab": {
          "base_uri": "https://localhost:8080/"
        },
        "id": "MD2MIVGxY-Gi",
        "outputId": "8ea73c54-f90d-433f-8bed-86ace3dd5a03"
      },
      "execution_count": null,
      "outputs": [
        {
          "output_type": "stream",
          "name": "stdout",
          "text": [
            "Enter Stringpython\n",
            "nhy\n",
            "nohtyp\n"
          ]
        }
      ]
    },
    {
      "cell_type": "code",
      "source": [
        "l=[\"abc\",\"pqr\",\"xyz\",\"aaa\",\"ppp\"]\n",
        "l.append(\"qqqq\")\n",
        "l.append(\"rrr\")\n",
        "print(\"List is : \",l)\n",
        "l.sort()\n",
        "print(\"Sorted list is : \",l)"
      ],
      "metadata": {
        "colab": {
          "base_uri": "https://localhost:8080/"
        },
        "id": "Ad5mfVzea7pm",
        "outputId": "0c6eb695-3b4c-4f09-f1d4-6cc90b2ea89b"
      },
      "execution_count": null,
      "outputs": [
        {
          "output_type": "stream",
          "name": "stdout",
          "text": [
            "List is :  ['abc', 'pqr', 'xyz', 'aaa', 'ppp', 'qqqq', 'rrr']\n",
            "Sorted list is :  ['aaa', 'abc', 'ppp', 'pqr', 'qqqq', 'rrr', 'xyz']\n"
          ]
        }
      ]
    },
    {
      "cell_type": "code",
      "source": [
        "no1=input(\"Enter number\")\n",
        "no2=input(\"Enter number\")\n",
        "no3=input(\"Enter number\")\n",
        "if(no1>no2) and (no1>no3):\n",
        "  print(\"No1 is miximun\",no1)\n",
        "elif(no2>no3) and (no2>no1):\n",
        "  print(\"No2 is maximum\",no2)\n",
        "else:\n",
        "  print(\"No3 is maximum\",no3)"
      ],
      "metadata": {
        "colab": {
          "base_uri": "https://localhost:8080/"
        },
        "id": "jPwJUEeKeJTw",
        "outputId": "fbaf2776-09b9-4be7-ff20-8e9ccd5ae820"
      },
      "execution_count": null,
      "outputs": [
        {
          "output_type": "stream",
          "name": "stdout",
          "text": [
            "Enter number7\n",
            "Enter number4\n",
            "Enter number9\n",
            "No3 is maximum 9\n"
          ]
        }
      ]
    },
    {
      "cell_type": "code",
      "source": [
        "no = input(\"Enter no\")\n",
        "i=1\n",
        "sum=0\n",
        "while(i<=int(no)):\n",
        "  sum=sum+i\n",
        "  print(i)\n",
        "  i=i+2\n",
        "print(sum)\n"
      ],
      "metadata": {
        "colab": {
          "base_uri": "https://localhost:8080/"
        },
        "id": "DEaf5opnf6ql",
        "outputId": "d483fd61-dfc4-413f-c569-c76ff7f18af0"
      },
      "execution_count": null,
      "outputs": [
        {
          "output_type": "stream",
          "name": "stdout",
          "text": [
            "Enter no10\n",
            "1\n",
            "3\n",
            "5\n",
            "7\n",
            "9\n",
            "25\n"
          ]
        }
      ]
    },
    {
      "cell_type": "code",
      "source": [
        "no=input(\"Enter no\")\n",
        "for i in range(0,int(no)):\n",
        "  for j in range(i+1):\n",
        "    print(\"*\",end='')\n",
        "  print(\"\\n\")"
      ],
      "metadata": {
        "colab": {
          "base_uri": "https://localhost:8080/"
        },
        "id": "ofzuxSmtguVP",
        "outputId": "502c7723-8e79-4da0-be81-705f477bf6fc"
      },
      "execution_count": null,
      "outputs": [
        {
          "output_type": "stream",
          "name": "stdout",
          "text": [
            "Enter no5\n",
            "*\n",
            "\n",
            "**\n",
            "\n",
            "***\n",
            "\n",
            "****\n",
            "\n",
            "*****\n",
            "\n"
          ]
        }
      ]
    },
    {
      "cell_type": "code",
      "source": [
        "no=input(\"Enter no\")\n",
        "for i in range(1,int(no)+1):\n",
        "  for s in range(1,int(no)-i):\n",
        "    print(\" \",end='')\n",
        "  for j in range(1,i+1):\n",
        "    print(\" *\",end='')\n",
        "  print(\"\\n\")"
      ],
      "metadata": {
        "colab": {
          "base_uri": "https://localhost:8080/"
        },
        "id": "sjxhlgUIAUyS",
        "outputId": "d1f9859f-7d4e-4e58-cf96-cb0ac5886bd7"
      },
      "execution_count": null,
      "outputs": [
        {
          "output_type": "stream",
          "name": "stdout",
          "text": [
            "Enter no5\n",
            "    *\n",
            "\n",
            "   * *\n",
            "\n",
            "  * * *\n",
            "\n",
            " * * * *\n",
            "\n",
            " * * * * *\n",
            "\n"
          ]
        }
      ]
    },
    {
      "cell_type": "code",
      "source": [
        "no=input(\"Enter no\")\n",
        "for i in range(1,int(no)+1):\n",
        "  for s in range(1,int(no)-i):\n",
        "    print(\" \",end='')\n",
        "  for j in range(1,i+1):\n",
        "    print(j,end=' ')\n",
        "  print(\"\\n\")"
      ],
      "metadata": {
        "colab": {
          "base_uri": "https://localhost:8080/"
        },
        "id": "5qGdxdS0B2Nk",
        "outputId": "4358d97d-f593-4436-9a56-cbecb41ca16a"
      },
      "execution_count": null,
      "outputs": [
        {
          "output_type": "stream",
          "name": "stdout",
          "text": [
            "Enter no5\n",
            "   1 \n",
            "\n",
            "  1 2 \n",
            "\n",
            " 1 2 3 \n",
            "\n",
            "1 2 3 4 \n",
            "\n",
            "1 2 3 4 5 \n",
            "\n"
          ]
        }
      ]
    },
    {
      "cell_type": "code",
      "source": [
        "no=input(\"Enter no\")\n",
        "for i in range(int(no),0,-1):\n",
        "  for s in range(1,int(no)-i):\n",
        "    print(\" \",end='')\n",
        "  for j in range(i,0,-1):\n",
        "    print(i,end=' ')\n",
        "  print(\"\\n\")"
      ],
      "metadata": {
        "colab": {
          "base_uri": "https://localhost:8080/"
        },
        "id": "Pc-IWYZSCnc7",
        "outputId": "11667916-8a0f-4fa8-d614-27437d122955"
      },
      "execution_count": 1,
      "outputs": [
        {
          "output_type": "stream",
          "name": "stdout",
          "text": [
            "Enter no5\n",
            "5 5 5 5 5 \n",
            "\n",
            "4 4 4 4 \n",
            "\n",
            " 3 3 3 \n",
            "\n",
            "  2 2 \n",
            "\n",
            "   1 \n",
            "\n"
          ]
        }
      ]
    },
    {
      "cell_type": "code",
      "source": [
        ""
      ],
      "metadata": {
        "id": "XNaC1Je-DhKW"
      },
      "execution_count": null,
      "outputs": []
    }
  ]
}