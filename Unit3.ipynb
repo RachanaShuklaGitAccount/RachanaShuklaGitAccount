{
  "nbformat": 4,
  "nbformat_minor": 0,
  "metadata": {
    "colab": {
      "name": "Unit3.ipynb",
      "provenance": [],
      "authorship_tag": "ABX9TyOfJhzuJwFDcr/+3w2U/hIJ",
      "include_colab_link": true
    },
    "kernelspec": {
      "name": "python3",
      "display_name": "Python 3"
    },
    "language_info": {
      "name": "python"
    }
  },
  "cells": [
    {
      "cell_type": "markdown",
      "metadata": {
        "id": "view-in-github",
        "colab_type": "text"
      },
      "source": [
        "<a href=\"https://colab.research.google.com/github/RachanaShuklaGitAccount/RachanaShuklaGitAccount/blob/main/Unit3.ipynb\" target=\"_parent\"><img src=\"https://colab.research.google.com/assets/colab-badge.svg\" alt=\"Open In Colab\"/></a>"
      ]
    },
    {
      "cell_type": "code",
      "source": [
        "str =  \"\"\" Welcome to Python programming\n",
        "We discuss all important concepts of Python\n",
        "In a easy manner. \"\"\"\n",
        "print (str)\n"
      ],
      "metadata": {
        "colab": {
          "base_uri": "https://localhost:8080/"
        },
        "id": "MfK3TLatFW4-",
        "outputId": "68e0154e-0e5e-402d-dc6d-00df31cc6d50"
      },
      "execution_count": null,
      "outputs": [
        {
          "output_type": "stream",
          "name": "stdout",
          "text": [
            " Welcome to Python programming\n",
            "We discuss all important concepts of Python\n",
            "In a easy manner. \n"
          ]
        }
      ]
    },
    {
      "cell_type": "code",
      "source": [
        "s1 = 'Welcome to “Python” programming'\n",
        "print(s1)\n",
        "\n",
        "s1 = \"Welcome to ‘Python’ programming\"\n",
        "print(s1)\n"
      ],
      "metadata": {
        "colab": {
          "base_uri": "https://localhost:8080/"
        },
        "id": "VgKPY39vOM0V",
        "outputId": "4d5cdb0c-1e78-4dbb-b969-d3efd5645045"
      },
      "execution_count": null,
      "outputs": [
        {
          "output_type": "stream",
          "name": "stdout",
          "text": [
            "Welcome to “Python” programming\n",
            "Welcome to ‘Python’ programming\n"
          ]
        }
      ]
    },
    {
      "cell_type": "code",
      "source": [
        "s1 = 'Welcome to \\t \"Python\" \\t programming'\n",
        "print(s1)\n",
        "s1 = 'Welcome to \\n\"Python\" \\n programming'\n",
        "print(s1)\n"
      ],
      "metadata": {
        "colab": {
          "base_uri": "https://localhost:8080/"
        },
        "id": "eiYO5-5SGb6U",
        "outputId": "c8a8e02f-afbc-4520-a7a2-4b0fc72027ea"
      },
      "execution_count": null,
      "outputs": [
        {
          "output_type": "stream",
          "name": "stdout",
          "text": [
            "Welcome to \t \"Python\" \t programming\n",
            "Welcome to \n",
            "\"Python\" \n",
            " programming\n"
          ]
        }
      ]
    },
    {
      "cell_type": "code",
      "source": [
        "#Accessing string characters in Python\n",
        "str = 'programming'\n",
        "print('str = ', str)\n",
        "\n",
        "#first character\n",
        "print('str[0] = ', str[0])\n",
        "\n",
        "#last character\n",
        "print('str[-1] = ', str[-1])\n",
        "\n",
        "#slicing 2nd to 5th character\n",
        "print('str[1:5] = ', str[1:5])\n",
        "\n",
        "#slicing 6th to 2nd last character\n",
        "print('str[5:-2] = ', str[5:-2])\n"
      ],
      "metadata": {
        "colab": {
          "base_uri": "https://localhost:8080/"
        },
        "id": "eedy6bbHHGqy",
        "outputId": "4518172b-2301-4df6-edb3-4300853c429c"
      },
      "execution_count": null,
      "outputs": [
        {
          "output_type": "stream",
          "name": "stdout",
          "text": [
            "str =  programming\n",
            "str[0] =  p\n",
            "str[-1] =  g\n",
            "str[1:5] =  rogr\n",
            "str[5:-2] =  ammi\n"
          ]
        }
      ]
    },
    {
      "cell_type": "code",
      "source": [
        "# Python program to demonstrate\n",
        "# string slicing\n",
        "# String slicing\n",
        "String ='ASTRING'\n",
        "\n",
        "# Using slice constructor\n",
        "s1 = slice(3)\n",
        "s2 = slice(0, 7, 3)\n",
        "s3 = slice(-1, -12, -2)\n",
        "\n",
        "print(\"String slicing\")\n",
        "print(String[s1])\n",
        "print(String[s2])\n",
        "print(String[s3])\n"
      ],
      "metadata": {
        "colab": {
          "base_uri": "https://localhost:8080/"
        },
        "id": "ypP0Yh8oIf2n",
        "outputId": "ea6df25d-2f28-4673-a3a9-bfde484615ee"
      },
      "execution_count": null,
      "outputs": [
        {
          "output_type": "stream",
          "name": "stdout",
          "text": [
            "String slicing\n",
            "AST\n",
            "ARG\n",
            "GITA\n"
          ]
        }
      ]
    },
    {
      "cell_type": "code",
      "source": [
        "# Python program to demonstrate\n",
        "# string slicing\n",
        "# String slicing\n",
        "String ='ASTRING'\n",
        "# Using indexing sequence\n",
        "print(String[0:3])\n",
        "print(String[1:5:2])\n",
        "print(String[-1:-12:-2])\n",
        "\n",
        "# Prints string in reverse\n",
        "print(\"\\nReverse String\")\n",
        "print(String[::-1])\n"
      ],
      "metadata": {
        "colab": {
          "base_uri": "https://localhost:8080/"
        },
        "id": "E-CWcHfLJmHu",
        "outputId": "d2549351-3bd8-4227-b2dc-41d6d6242a5d"
      },
      "execution_count": null,
      "outputs": [
        {
          "output_type": "stream",
          "name": "stdout",
          "text": [
            "AST\n",
            "SR\n",
            "GITA\n",
            "\n",
            "Reverse String\n",
            "GNIRTSA\n"
          ]
        }
      ]
    },
    {
      "cell_type": "code",
      "source": [
        "# Python program to demonstrate the use of\n",
        "# len() method\n",
        "\n",
        "# Length of below string is 5\n",
        "s= \"Python\"\n",
        "print(len(s))\n",
        "\n",
        "# Length of below string is 15\n",
        "string = \"Python Programming\"\n",
        "print(len(string))\n"
      ],
      "metadata": {
        "colab": {
          "base_uri": "https://localhost:8080/"
        },
        "id": "allOpVwhKeD5",
        "outputId": "896df4f6-7255-4b37-e64c-b7e0a2cd3317"
      },
      "execution_count": null,
      "outputs": [
        {
          "output_type": "stream",
          "name": "stdout",
          "text": [
            "6\n",
            "18\n"
          ]
        }
      ]
    },
    {
      "cell_type": "code",
      "source": [
        "print(len(\"HEllo\"))"
      ],
      "metadata": {
        "colab": {
          "base_uri": "https://localhost:8080/"
        },
        "id": "NaopL-r9KtEt",
        "outputId": "d449e4dd-68d4-4b5e-f083-2db46fd5eb7a"
      },
      "execution_count": null,
      "outputs": [
        {
          "output_type": "stream",
          "name": "stdout",
          "text": [
            "5\n"
          ]
        }
      ]
    },
    {
      "cell_type": "code",
      "source": [
        "# Python program to demonstrate\n",
        "# string concatenation\n",
        "# Defining strings\n",
        "var1 = \"Hello \"\n",
        "var2 = \"World\"\n",
        "\n",
        "# + Operator is used to combine strings\n",
        "var3 = var1 + var2\n",
        "print(var3)\n"
      ],
      "metadata": {
        "colab": {
          "base_uri": "https://localhost:8080/"
        },
        "id": "VyW7SZuEKwJa",
        "outputId": "c23767c8-2c9d-4faa-c491-c433c3869800"
      },
      "execution_count": null,
      "outputs": [
        {
          "output_type": "stream",
          "name": "stdout",
          "text": [
            "Hello World\n"
          ]
        }
      ]
    },
    {
      "cell_type": "code",
      "source": [
        "# Python program to demonstrate\n",
        "# string concatenation\n",
        "var1 = \"Hello\"\n",
        "var2 = \"World\"\n",
        "var4=\"Python\"\n",
        "var5=\"programming\"\n",
        "\n",
        "# join() method is used to combine the strings\n",
        "print(\"\".join([var1, var2]))\n",
        "\n",
        "# join() method is used here to combine\n",
        "# the string with a separator Space(\" \")\n",
        "var3 = \" *** \".join([var1, var2])\n",
        "\n",
        "print(var3)\n",
        "var3=\" \".join([var1,var2,var4,var5])\n",
        "print(var3)\n"
      ],
      "metadata": {
        "colab": {
          "base_uri": "https://localhost:8080/"
        },
        "id": "yuu1X5BTLW8J",
        "outputId": "0f0ac696-8d0d-4123-82d7-81adf3c27472"
      },
      "execution_count": null,
      "outputs": [
        {
          "output_type": "stream",
          "name": "stdout",
          "text": [
            "HelloWorld\n",
            "Hello *** World\n",
            "Hello World Python programming\n"
          ]
        }
      ]
    },
    {
      "cell_type": "code",
      "source": [
        "# Python program to demonstrate\n",
        "# string concatenation\n",
        "\n",
        "var1 = \"Hello\"\n",
        "var2 = \"World\"\n",
        "var3 = \"Python\"\n",
        "\n",
        "# % Operator is used here to combine the string\n",
        "print(\"% s , % s , % s\" % (var1, var2, var3))\n"
      ],
      "metadata": {
        "colab": {
          "base_uri": "https://localhost:8080/"
        },
        "id": "gMvGztRPL_5R",
        "outputId": "f6d9f3a2-08cd-4de9-d05e-17c0bc000ec4"
      },
      "execution_count": null,
      "outputs": [
        {
          "output_type": "stream",
          "name": "stdout",
          "text": [
            "Hello , World , Python\n"
          ]
        }
      ]
    },
    {
      "cell_type": "code",
      "source": [
        "# Python program to illustrate\n",
        "# string center() in python\n",
        "string = \"Center Example\"\n",
        "\n",
        "new_string = string.center(30)\n",
        "\n",
        "# here filchar not provided so takes space by default.\n",
        "print(\"After padding String is: \", new_string)\n",
        "string1 = \" Center Example \"\n",
        "  \n",
        "new_string1 = string1.center(50, '*')\n",
        "  \n",
        "# here fillchar is provided\n",
        "print(\"After padding String is:\", new_string1)\n"
      ],
      "metadata": {
        "colab": {
          "base_uri": "https://localhost:8080/"
        },
        "id": "rSrA5Xv7M1Fm",
        "outputId": "a7ba2617-c833-4334-a069-e89a86806bf5"
      },
      "execution_count": null,
      "outputs": [
        {
          "output_type": "stream",
          "name": "stdout",
          "text": [
            "After padding String is:          Center Example        \n",
            "After padding String is: ***************** Center Example *****************\n"
          ]
        }
      ]
    },
    {
      "cell_type": "code",
      "source": [
        "mystr = 'Count Example in Python'\n",
        "\n",
        "total = mystr.count('o')\n",
        "print('Number of occurrences of \"Python\":', total)\n",
        "\n",
        "total = mystr.count('Python')\n",
        "print('Number of occurrences of \"python\":', total)\n"
      ],
      "metadata": {
        "colab": {
          "base_uri": "https://localhost:8080/"
        },
        "id": "axfgABtkNzKL",
        "outputId": "a86ef5c2-81ea-4f71-a877-4584accec43d"
      },
      "execution_count": null,
      "outputs": [
        {
          "output_type": "stream",
          "name": "stdout",
          "text": [
            "Number of occurrences of \"Python\": 2\n",
            "Number of occurrences of \"python\": 1\n"
          ]
        }
      ]
    },
    {
      "cell_type": "code",
      "source": [
        "# pythin program to demonstrate the use of\n",
        "# max() function\n",
        "\n",
        "# maximum alphabetical character in\n",
        "# \"python\"\n",
        "string = \"python\"\n",
        "print(max(string))\n",
        "\n",
        "# maximum alphabetical character in\n",
        "# \"raj\"\n",
        "string = \"raj\"\n",
        "print(max(string))\n"
      ],
      "metadata": {
        "colab": {
          "base_uri": "https://localhost:8080/"
        },
        "id": "vdjK2dkROpra",
        "outputId": "febc9616-d47f-41e6-d601-f16a7d622a69"
      },
      "execution_count": null,
      "outputs": [
        {
          "output_type": "stream",
          "name": "stdout",
          "text": [
            "y\n",
            "r\n"
          ]
        }
      ]
    },
    {
      "cell_type": "code",
      "source": [
        "# python program to demonstrate the use of\n",
        "# min() function\n",
        "\n",
        "# minimum alphabetical character in\n",
        "# \"python\"\n",
        "string = \"python\"\n",
        "print(min(string))\n",
        "\n",
        "# minimum alphabetical character in\n",
        "# \"raj\"\n",
        "string = \"raj\"\n",
        "print(min(string))\n"
      ],
      "metadata": {
        "colab": {
          "base_uri": "https://localhost:8080/"
        },
        "id": "s5ATq3DMO-bV",
        "outputId": "eb7b6c30-7d1b-4eef-f7df-978dfc501870"
      },
      "execution_count": null,
      "outputs": [
        {
          "output_type": "stream",
          "name": "stdout",
          "text": [
            "h\n",
            "a\n"
          ]
        }
      ]
    },
    {
      "cell_type": "code",
      "source": [
        "# Python3 program to demonstrate the\n",
        "# use of replace() method\n",
        "\n",
        "str = \"Python is easy, C is programming, We learn C,C,C,C\"\n",
        "# Prints the string by replacing all\n",
        "# C by Python\n",
        "print(str.replace(\"C\",\"python\"))\n",
        "# Prints the string by replacing only\n",
        "# 3 occurrence of C\n",
        "print(str.replace(\"C\",\"Python\",3))\n"
      ],
      "metadata": {
        "colab": {
          "base_uri": "https://localhost:8080/"
        },
        "id": "BMmuiAFtPc6w",
        "outputId": "371a4d53-95b1-43d4-dcf7-68fd409a8681"
      },
      "execution_count": null,
      "outputs": [
        {
          "output_type": "stream",
          "name": "stdout",
          "text": [
            "Python is easy, python is programming, We learn python,python,python,python\n",
            "Python is easy, Python is programming, We learn Python,Python,C,C\n"
          ]
        }
      ]
    },
    {
      "cell_type": "code",
      "source": [
        ""
      ],
      "metadata": {
        "id": "kZ6d-BTU_BW3"
      },
      "execution_count": null,
      "outputs": []
    },
    {
      "cell_type": "code",
      "source": [
        "# Python3 program to show the\n",
        "# working of lower() function\n",
        "text = 'Python FOR PROGRAMMING'\n",
        "\n",
        "print(\"Original String:\")\n",
        "print(text)\n",
        "\n",
        "# lower() function to convert\n",
        "# string to lower_case\n",
        "print(\"\\nConverted String:\")\n",
        "print(text.lower())\n"
      ],
      "metadata": {
        "colab": {
          "base_uri": "https://localhost:8080/"
        },
        "id": "4AUYkO33P-b4",
        "outputId": "988636c7-4977-4f00-9e52-2003f6e0a7b7"
      },
      "execution_count": null,
      "outputs": [
        {
          "output_type": "stream",
          "name": "stdout",
          "text": [
            "Original String:\n",
            "Python FOR PROGRAMMING\n",
            "\n",
            "Converted String:\n",
            "python for programming\n"
          ]
        }
      ]
    },
    {
      "cell_type": "code",
      "source": [
        "# Python3 program to show the\n",
        "# working of upper() function\n",
        "text = 'Python For Programming'\n",
        "\n",
        "print(\"Original String:\")\n",
        "print(text)\n",
        "\n",
        "# upper() function to convert\n",
        "# string to upper_case\n",
        "print(\"\\nConverted String:\")\n",
        "print(text.upper())\n"
      ],
      "metadata": {
        "colab": {
          "base_uri": "https://localhost:8080/"
        },
        "id": "MMvidBaaQJqj",
        "outputId": "35067546-1e45-4c72-ff7d-0a3b51199f24"
      },
      "execution_count": null,
      "outputs": [
        {
          "output_type": "stream",
          "name": "stdout",
          "text": [
            "Original String:\n",
            "Python For Programming\n",
            "\n",
            "Converted String:\n",
            "PYTHON FOR PROGRAMMING\n"
          ]
        }
      ]
    },
    {
      "cell_type": "code",
      "source": [
        "text = 'Python in Jupyter Lab'\n",
        "\n",
        "# Splits at space\n",
        "print(text.split())\n",
        "\n",
        "word = ' Python in, Jupyter, Lab '\n",
        "\n",
        "# Splits at ','\n",
        "print(word.split(','))\n",
        "\n",
        "word = ' Python : in : Jupyter : Lab '\n",
        "\n",
        "# Splitting at ':'\n",
        "print(word.split(':'))\n",
        "\n",
        "word = 'CatBatSatFatOr'\n",
        "\n",
        "# Splitting at t\n",
        "print(word.split('t'))\n"
      ],
      "metadata": {
        "colab": {
          "base_uri": "https://localhost:8080/"
        },
        "id": "CeIlCBN-QeWQ",
        "outputId": "516157a7-f668-460d-932c-419f9e02213c"
      },
      "execution_count": null,
      "outputs": [
        {
          "output_type": "stream",
          "name": "stdout",
          "text": [
            "['Python', 'in', 'Jupyter', 'Lab']\n",
            "[' Python in', ' Jupyter', ' Lab ']\n",
            "[' Python ', ' in ', ' Jupyter ', ' Lab ']\n",
            "['Ca', 'Ba', 'Sa', 'Fa', 'Or']\n"
          ]
        }
      ]
    },
    {
      "cell_type": "code",
      "source": [
        "val1 = 2\n",
        "val2 = 3\n",
        "res = val1 + val2\n",
        "print(res)\n",
        "res = val1 - val2\n",
        "print(res)\n",
        "res = val1 * val2\n",
        "print(res)\n",
        "res = val1 / val2\n",
        "print(res)\n",
        "res = val1 % val2\n",
        "print(res)\n",
        "res = val1 ** val2\n",
        "print(res)\n",
        "res = val1 // val2\n",
        "print(res)\n"
      ],
      "metadata": {
        "colab": {
          "base_uri": "https://localhost:8080/"
        },
        "id": "4pwxkNLdXWZl",
        "outputId": "37f554fe-81fe-4207-de49-a9c4fa1b40d4"
      },
      "execution_count": null,
      "outputs": [
        {
          "output_type": "stream",
          "name": "stdout",
          "text": [
            "5\n",
            "-1\n",
            "6\n",
            "0.6666666666666666\n",
            "2\n",
            "8\n",
            "0\n"
          ]
        }
      ]
    },
    {
      "cell_type": "code",
      "source": [
        "a = 21\n",
        "b = 10\n",
        "c = 0\n",
        "\n",
        "c = a + b\n",
        "print(\"Line 1 - Value of c is \", c)\n",
        "\n",
        "c += a\n",
        "print(\"Line 2 - Value of c is \", c )\n",
        "\n",
        "c *= a\n",
        "print(\"Line 3 - Value of c is \", c )\n",
        "\n",
        "c /= a \n",
        "print(\"Line 4 - Value of c is \", c )\n",
        "\n",
        "c  = 2\n",
        "c %= a\n",
        "print(\"Line 5 - Value of c is \", c)\n",
        "a=5\n",
        "c **= a\n",
        "print(\"Line 6 - Value of c is \", c)\n",
        "\n",
        "c //= a\n",
        "print(\"Line 7 - Value of c is \", c)\n"
      ],
      "metadata": {
        "colab": {
          "base_uri": "https://localhost:8080/"
        },
        "id": "UVOr1prmZR_2",
        "outputId": "49fa08ec-e696-4d87-d836-a98be5dfdd2b"
      },
      "execution_count": null,
      "outputs": [
        {
          "output_type": "stream",
          "name": "stdout",
          "text": [
            "Line 1 - Value of c is  31\n",
            "Line 2 - Value of c is  52\n",
            "Line 3 - Value of c is  1092\n",
            "Line 4 - Value of c is  52.0\n",
            "Line 5 - Value of c is  2\n",
            "Line 6 - Value of c is  32\n",
            "Line 7 - Value of c is  6\n"
          ]
        }
      ]
    },
    {
      "cell_type": "code",
      "source": [
        "a = 21\n",
        "b = 10\n",
        "c = 0\n",
        "\n",
        "if ( a == b ):\n",
        "   print (\"Line 1 - a is equal to b\")\n",
        "else:\n",
        "   print (\"Line 1 - a is not equal to b\")\n",
        "\n",
        "if ( a != b ):\n",
        "   print (\"Line 2 - a is not equal to b\")\n",
        "else:\n",
        "   print (\"Line 2 - a is equal to b\")\n",
        "\n",
        "if ( a < b ):\n",
        "   print (\"Line 4 - a is less than b\" )\n",
        "else:\n",
        "   print (\"Line 4 - a is not less than b\")\n",
        "\n",
        "if ( a > b ):\n",
        "   print (\"Line 5 - a is greater than b\")\n",
        "   print(\"Inside if\")\n",
        "else:\n",
        "   print (\"Line 5 - a is not greater than b\")\n",
        "\n",
        "a = 5;\n",
        "b = 20;\n",
        "if ( a <= b ):\n",
        "   print (\"Line 6 - a is either less than or equal to  b\")\n",
        "else:\n",
        "   print (\"Line 6 - a is neither less than nor equal to  b\")\n",
        "\n",
        "if ( b >= a ):\n",
        "   print (\"Line 7 - b is either greater than  or equal to a\")\n",
        "else:\n",
        "   print (\"Line 7 - b is neither greater than  nor equal to a\")\n"
      ],
      "metadata": {
        "colab": {
          "base_uri": "https://localhost:8080/"
        },
        "id": "iCsiEpPwaxbq",
        "outputId": "f2a464ac-8d48-4831-9d39-968cbec83591"
      },
      "execution_count": null,
      "outputs": [
        {
          "output_type": "stream",
          "name": "stdout",
          "text": [
            "Line 1 - a is not equal to b\n",
            "Line 2 - a is not equal to b\n",
            "Line 4 - a is not less than b\n",
            "Line 5 - a is greater than b\n",
            "Inside if\n",
            "Line 6 - a is either less than or equal to  b\n",
            "Line 7 - b is either greater than  or equal to a\n"
          ]
        }
      ]
    },
    {
      "cell_type": "code",
      "source": [
        "a =5\n",
        "b=8\n",
        "c=15\n",
        "if ((a>b)and(a>c)):\n",
        "  print(\"A is highest\", a)\n",
        "elif((b>a)and(b>c)):\n",
        "  print(\"B is highest \",b)\n",
        "else:\n",
        "  print(\"C is highest\",c)\n"
      ],
      "metadata": {
        "colab": {
          "base_uri": "https://localhost:8080/"
        },
        "id": "hGFd7JFkcrsi",
        "outputId": "b77aa7f7-97d1-4020-944e-ae163ca1dc05"
      },
      "execution_count": null,
      "outputs": [
        {
          "output_type": "stream",
          "name": "stdout",
          "text": [
            "C is highest 15\n"
          ]
        }
      ]
    },
    {
      "cell_type": "code",
      "source": [
        "a = 10\n",
        "b = 20\n",
        "list = [1, 2, 3, 4, 5 ];\n",
        "if ( a in list ):\n",
        "   print (\"Line 1 - a is available in the given list\")\n",
        "else:\n",
        "   print (\"Line 1 - a is not available in the given list\")\n",
        "\n",
        "if ( b not in list ):\n",
        "   print (\"Line 2 - b is not available in the given list\")\n",
        "else:\n",
        "   print (\"Line 2 - b is available in the given list\")\n",
        "a = 2\n",
        "if ( a in list ):\n",
        "   print (\"Line 3 - a is available in the given list\")\n",
        "else:\n",
        "   print (\"Line 3 - a is not available in the given list\")\n"
      ],
      "metadata": {
        "colab": {
          "base_uri": "https://localhost:8080/"
        },
        "id": "bs-oHkMgeChW",
        "outputId": "541ec9e1-ff68-41c5-8c48-bf412e80fb3b"
      },
      "execution_count": null,
      "outputs": [
        {
          "output_type": "stream",
          "name": "stdout",
          "text": [
            "Line 1 - a is not available in the given list\n",
            "Line 2 - b is not available in the given list\n",
            "Line 3 - a is available in the given list\n"
          ]
        }
      ]
    },
    {
      "cell_type": "code",
      "source": [
        "a = 20\n",
        "b = 20\n",
        "if ( a is b ):\n",
        "   print (\"Line 1 - a and b have same identity\")\n",
        "else:\n",
        "   print (\"Line 1 - a and b do not have same identity\")\n",
        "if ( id(a) == id(b) ):\n",
        "   print (\"Line 2 - a and b have same identity\")\n",
        "else:\n",
        "   print (\"Line 2 - a and b do not have same identity\")\n",
        "b = 30\n",
        "if ( a is b ):\n",
        "   print (\"Line 3 - a and b have same identity\")\n",
        "else:\n",
        "   print (\"Line 3 - a and b do not have same identity\")\n",
        "if ( a is not b ):\n",
        "   print (\"Line 4 - a and b do not have same identity\")\n",
        "else:\n",
        "   print (\"Line 4 - a and b have same identity\")\n"
      ],
      "metadata": {
        "colab": {
          "base_uri": "https://localhost:8080/"
        },
        "id": "YjjHjSxgezcy",
        "outputId": "8676747e-2a3b-4919-e174-8344ae264774"
      },
      "execution_count": null,
      "outputs": [
        {
          "output_type": "stream",
          "name": "stdout",
          "text": [
            "Line 1 - a and b have same identity\n",
            "Line 2 - a and b have same identity\n",
            "Line 3 - a and b do not have same identity\n",
            "Line 4 - a and b do not have same identity\n"
          ]
        }
      ]
    }
  ]
}